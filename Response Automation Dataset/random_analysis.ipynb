{
  "nbformat": 4,
  "nbformat_minor": 0,
  "metadata": {
    "colab": {
      "provenance": []
    },
    "kernelspec": {
      "name": "python3",
      "display_name": "Python 3"
    },
    "language_info": {
      "name": "python"
    }
  },
  "cells": [
    {
      "cell_type": "code",
      "execution_count": null,
      "metadata": {
        "id": "93euI0NrJ6tP"
      },
      "outputs": [],
      "source": []
    },
    {
      "cell_type": "code",
      "source": [
        "import pandas as pd\n",
        "from textblob import TextBlob\n",
        "\n",
        "# Load the datasets\n",
        "data_1 = pd.read_csv('/content/helpdesk_customer_multi_lang_tickets.csv')\n",
        "data_2 = pd.read_csv('/content/helpdesk_customer_tickets.csv')\n",
        "\n",
        "# 1. Priority and Language Distribution\n",
        "priority_dist_1 = data_1['priority'].value_counts()\n",
        "priority_dist_2 = data_2['priority'].value_counts()\n",
        "\n",
        "language_dist_1 = data_1['language'].value_counts()\n",
        "language_dist_2 = data_2['language'].value_counts()\n",
        "\n",
        "# 2. Top 5 Queues\n",
        "top_queues_1 = data_1['queue'].value_counts().head(5)\n",
        "top_queues_2 = data_2['queue'].value_counts().head(5)\n",
        "\n",
        "# 3. Null Value Count\n",
        "null_counts_1 = data_1.isnull().sum()\n",
        "null_counts_2 = data_2.isnull().sum()\n",
        "\n",
        "# 4. Sentiment Analysis on Subject\n",
        "def analyze_sentiment(subjects):\n",
        "    return subjects.dropna().apply(lambda text: TextBlob(str(text)).sentiment.polarity).mean()\n",
        "\n",
        "subject_sentiment_1 = analyze_sentiment(data_1['subject'])\n",
        "subject_sentiment_2 = analyze_sentiment(data_2['subject'])\n",
        "\n",
        "# Print results\n",
        "print(\"Priority Distribution (Dataset 1):\\n\", priority_dist_1)\n",
        "print(\"Priority Distribution (Dataset 2):\\n\", priority_dist_2)\n",
        "\n",
        "print(\"\\nLanguage Distribution (Dataset 1):\\n\", language_dist_1)\n",
        "print(\"Language Distribution (Dataset 2):\\n\", language_dist_2)\n",
        "\n",
        "print(\"\\nTop 5 Queues (Dataset 1):\\n\", top_queues_1)\n",
        "print(\"Top 5 Queues (Dataset 2):\\n\", top_queues_2)\n",
        "\n",
        "print(\"\\nNull Value Counts (Dataset 1):\\n\", null_counts_1)\n",
        "print(\"Null Value Counts (Dataset 2):\\n\", null_counts_2)\n",
        "\n",
        "print(\"\\nAverage Subject Sentiment (Dataset 1):\", subject_sentiment_1)\n",
        "print(\"Average Subject Sentiment (Dataset 2):\", subject_sentiment_2)\n"
      ],
      "metadata": {
        "colab": {
          "base_uri": "https://localhost:8080/"
        },
        "id": "STtSjc94L7we",
        "outputId": "2b56e5ba-0a51-4dff-8f36-e4fb185c6a3b"
      },
      "execution_count": 4,
      "outputs": [
        {
          "output_type": "stream",
          "name": "stdout",
          "text": [
            "Priority Distribution (Dataset 1):\n",
            " priority\n",
            "high      788\n",
            "medium    572\n",
            "low       206\n",
            "Name: count, dtype: int64\n",
            "Priority Distribution (Dataset 2):\n",
            " priority\n",
            "high      266\n",
            "medium    205\n",
            "low       129\n",
            "Name: count, dtype: int64\n",
            "\n",
            "Language Distribution (Dataset 1):\n",
            " language\n",
            "de    397\n",
            "es    379\n",
            "en    339\n",
            "pt    229\n",
            "fr    222\n",
            "Name: count, dtype: int64\n",
            "Language Distribution (Dataset 2):\n",
            " language\n",
            "en    163\n",
            "de    152\n",
            "es    133\n",
            "pt     81\n",
            "fr     71\n",
            "Name: count, dtype: int64\n",
            "\n",
            "Top 5 Queues (Dataset 1):\n",
            " queue\n",
            "Technical Support       589\n",
            "Product Support         288\n",
            "Customer Service        234\n",
            "IT Support              179\n",
            "Billing and Payments    117\n",
            "Name: count, dtype: int64\n",
            "Top 5 Queues (Dataset 2):\n",
            " queue\n",
            "Technical Support       210\n",
            "Product Support          93\n",
            "Customer Service         85\n",
            "IT Support               77\n",
            "Billing and Payments     46\n",
            "Name: count, dtype: int64\n",
            "\n",
            "Null Value Counts (Dataset 1):\n",
            " id                  0\n",
            "subject             1\n",
            "body                1\n",
            "answer              0\n",
            "type                0\n",
            "queue               0\n",
            "priority            0\n",
            "language            0\n",
            "business_type       0\n",
            "tag_1               0\n",
            "tag_2               0\n",
            "tag_3               0\n",
            "tag_4               0\n",
            "tag_5             147\n",
            "tag_6             555\n",
            "tag_7            1077\n",
            "tag_8            1429\n",
            "tag_9            1566\n",
            "dtype: int64\n",
            "Null Value Counts (Dataset 2):\n",
            " id                 0\n",
            "subject            1\n",
            "body               0\n",
            "answer             0\n",
            "type               0\n",
            "queue              0\n",
            "priority           0\n",
            "language           0\n",
            "business_type      0\n",
            "tag_1              0\n",
            "tag_2              0\n",
            "tag_3              0\n",
            "tag_4              0\n",
            "tag_5            168\n",
            "tag_6            427\n",
            "tag_7            544\n",
            "tag_8            591\n",
            "tag_9            600\n",
            "dtype: int64\n",
            "\n",
            "Average Subject Sentiment (Dataset 1): -0.004503920999128667\n",
            "Average Subject Sentiment (Dataset 2): -0.0031566861074373604\n"
          ]
        }
      ]
    },
    {
      "cell_type": "markdown",
      "source": [
        "# New section"
      ],
      "metadata": {
        "id": "JV6KVvxhKRIo"
      }
    },
    {
      "cell_type": "code",
      "source": [
        "data_1.info()"
      ],
      "metadata": {
        "colab": {
          "base_uri": "https://localhost:8080/"
        },
        "id": "qxIWgTOiNYj0",
        "outputId": "57717908-c26d-4e09-abe1-f123f0984cab"
      },
      "execution_count": 3,
      "outputs": [
        {
          "output_type": "stream",
          "name": "stdout",
          "text": [
            "<class 'pandas.core.frame.DataFrame'>\n",
            "RangeIndex: 1566 entries, 0 to 1565\n",
            "Data columns (total 18 columns):\n",
            " #   Column         Non-Null Count  Dtype  \n",
            "---  ------         --------------  -----  \n",
            " 0   id             1566 non-null   int64  \n",
            " 1   subject        1565 non-null   object \n",
            " 2   body           1565 non-null   object \n",
            " 3   answer         1566 non-null   object \n",
            " 4   type           1566 non-null   object \n",
            " 5   queue          1566 non-null   object \n",
            " 6   priority       1566 non-null   object \n",
            " 7   language       1566 non-null   object \n",
            " 8   business_type  1566 non-null   object \n",
            " 9   tag_1          1566 non-null   object \n",
            " 10  tag_2          1566 non-null   object \n",
            " 11  tag_3          1566 non-null   object \n",
            " 12  tag_4          1566 non-null   object \n",
            " 13  tag_5          1419 non-null   object \n",
            " 14  tag_6          1011 non-null   object \n",
            " 15  tag_7          489 non-null    object \n",
            " 16  tag_8          137 non-null    object \n",
            " 17  tag_9          0 non-null      float64\n",
            "dtypes: float64(1), int64(1), object(16)\n",
            "memory usage: 220.3+ KB\n"
          ]
        }
      ]
    },
    {
      "cell_type": "code",
      "source": [
        "import matplotlib.pyplot as plt\n",
        "import seaborn as sns\n",
        "language_counts = data_1['language'].value_counts()\n",
        "plt.figure(figsize=(10, 6))\n",
        "sns.barplot(x=language_counts.index, y=language_counts.values)\n",
        "plt.title('Count of Languages Used in Tickets')\n",
        "plt.xlabel('Language')\n",
        "plt.ylabel('Count')\n",
        "plt.xticks(rotation=45)\n",
        "plt.show()"
      ],
      "metadata": {
        "colab": {
          "base_uri": "https://localhost:8080/",
          "height": 572
        },
        "id": "Yx5T2J6ENcwW",
        "outputId": "9e3e7b59-60f5-44e0-d844-20a993e2e773"
      },
      "execution_count": 9,
      "outputs": [
        {
          "output_type": "display_data",
          "data": {
            "text/plain": [
              "<Figure size 1000x600 with 1 Axes>"
            ],
            "image/png": "[encoded data removed]"
          },
          "metadata": {}
        }
      ]
    }
  ]
}